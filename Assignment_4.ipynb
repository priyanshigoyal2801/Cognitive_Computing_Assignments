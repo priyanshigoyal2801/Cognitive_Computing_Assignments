{
  "nbformat": 4,
  "nbformat_minor": 0,
  "metadata": {
    "colab": {
      "provenance": []
    },
    "kernelspec": {
      "name": "python3",
      "display_name": "Python 3"
    },
    "language_info": {
      "name": "python"
    }
  },
  "cells": [
    {
      "cell_type": "markdown",
      "source": [
        "Name : Priyanshi <br>\n",
        "Roll no - 102497022<br>\n",
        "Sub-Group - 2Q14"
      ],
      "metadata": {
        "id": "5QqCIVXTJCgg"
      }
    },
    {
      "cell_type": "code",
      "source": [
        "#Q1\n",
        "import numpy as np\n",
        "a = np.array([1,2,3,4,5])\n",
        "#(a)\n",
        "b = a+2\n",
        "print(\"After addition\",b)\n",
        "#(b)\n",
        "c = a*3\n",
        "print(\"After multiplication\",c)\n",
        "#(c)\n",
        "d = a/2\n",
        "print(\"After division\",d)"
      ],
      "metadata": {
        "colab": {
          "base_uri": "https://localhost:8080/"
        },
        "id": "ZzYFluDKJEuX",
        "outputId": "2d104812-d3de-4474-9817-f37cbfff409e"
      },
      "execution_count": null,
      "outputs": [
        {
          "output_type": "stream",
          "name": "stdout",
          "text": [
            "After addition [3 4 5 6 7]\n",
            "After multiplication [ 3  6  9 12 15]\n",
            "After division [0.5 1.  1.5 2.  2.5]\n"
          ]
        }
      ]
    },
    {
      "cell_type": "code",
      "source": [
        "#Q2\n",
        "import numpy as np\n",
        "#(a)\n",
        "arr = np.array([1, 2, 3, 6, 4, 5])\n",
        "reversed_array = np.flip(arr)\n",
        "print(\"Reversed array\",reversed_array)\n",
        "\n",
        "#(b)\n",
        "def most_frequent(arr):\n",
        "    values, counts = np.unique(arr, return_counts=True)\n",
        "    max_count = np.max(counts)\n",
        "    most_freq_val = values[counts == max_count][0]\n",
        "    indices = np.where(arr == most_freq_val)[0]\n",
        "    return most_freq_val, indices\n",
        "\n",
        "x = np.array([1, 2, 3, 4, 5, 1, 2, 1, 1, 1])\n",
        "y = np.array([1, 1, 1, 2, 3, 4, 2, 4, 3, 3])\n",
        "\n",
        "most_freq_x, indices_x = most_frequent(x)\n",
        "print(f\"Most frequent value in x: {most_freq_x}, Indices: {indices_x}\")\n",
        "\n",
        "most_freq_y, indices_y = most_frequent(y)\n",
        "print(f\"Most frequent value in y: {most_freq_y}, Indices: {indices_y}\")\n"
      ],
      "metadata": {
        "id": "h4lAFyrWOdKH",
        "colab": {
          "base_uri": "https://localhost:8080/"
        },
        "outputId": "57356fdc-a5ee-4797-b0e0-c2079fd0188d"
      },
      "execution_count": 6,
      "outputs": [
        {
          "output_type": "stream",
          "name": "stdout",
          "text": [
            "Reversed array [5 4 6 3 2 1]\n",
            "Most frequent value in x: 1, Indices: [0 5 7 8 9]\n",
            "Most frequent value in y: 1, Indices: [0 1 2]\n"
          ]
        }
      ]
    },
    {
      "cell_type": "code",
      "source": [
        "# Q3\n",
        "import numpy as np\n",
        "arr_2d = np.array([[10, 20, 30], [40, 50, 60], [70, 80, 90]])\n",
        "#(a)\n",
        "print(\"Element at 1st row, 2nd column:\", arr_2d[0, 1])\n",
        "#(b)\n",
        "print(\"Element at 3rd row, 1st column:\", arr_2d[2, 0])"
      ],
      "metadata": {
        "id": "7tm6k1NIOhHK",
        "colab": {
          "base_uri": "https://localhost:8080/"
        },
        "outputId": "14b8a3d5-f2df-4e00-9308-50f06d0e3ffc"
      },
      "execution_count": 2,
      "outputs": [
        {
          "output_type": "stream",
          "name": "stdout",
          "text": [
            "Element at 1st row, 2nd column: 20\n",
            "Element at 3rd row, 1st column: 70\n"
          ]
        }
      ]
    },
    {
      "cell_type": "code",
      "source": [
        "#Q4\n",
        "import numpy as np\n",
        "Priyanshi = np.linspace(10, 100, 25)\n",
        "print(\"Dimensions:\", Priyanshi.ndim)\n",
        "print(\"Shape:\", Priyanshi.shape)\n",
        "print(\"Total elements:\", Priyanshi.size)\n",
        "print(\"Data type:\", Priyanshi.dtype)\n",
        "print(\"Total bytes consumed:\", Priyanshi.nbytes)\n",
        "Priyanshi_transpose = Priyanshi.reshape(25, 1)\n",
        "print(\"Transpose using reshape():\\n\", Priyanshi_transpose)\n",
        "print(\"Transpose using T attribute:\\n\", Priyanshi.T)"
      ],
      "metadata": {
        "colab": {
          "base_uri": "https://localhost:8080/"
        },
        "id": "LYxPaN5HTa4a",
        "outputId": "9aa6f300-c6e1-49b6-fb4b-f8c402e0352b"
      },
      "execution_count": null,
      "outputs": [
        {
          "output_type": "stream",
          "name": "stdout",
          "text": [
            "Dimensions: 1\n",
            "Shape: (25,)\n",
            "Total elements: 25\n",
            "Data type: float64\n",
            "Total bytes consumed: 200\n",
            "Transpose using reshape():\n",
            " [[ 10.  ]\n",
            " [ 13.75]\n",
            " [ 17.5 ]\n",
            " [ 21.25]\n",
            " [ 25.  ]\n",
            " [ 28.75]\n",
            " [ 32.5 ]\n",
            " [ 36.25]\n",
            " [ 40.  ]\n",
            " [ 43.75]\n",
            " [ 47.5 ]\n",
            " [ 51.25]\n",
            " [ 55.  ]\n",
            " [ 58.75]\n",
            " [ 62.5 ]\n",
            " [ 66.25]\n",
            " [ 70.  ]\n",
            " [ 73.75]\n",
            " [ 77.5 ]\n",
            " [ 81.25]\n",
            " [ 85.  ]\n",
            " [ 88.75]\n",
            " [ 92.5 ]\n",
            " [ 96.25]\n",
            " [100.  ]]\n",
            "Transpose using T attribute:\n",
            " [ 10.    13.75  17.5   21.25  25.    28.75  32.5   36.25  40.    43.75\n",
            "  47.5   51.25  55.    58.75  62.5   66.25  70.    73.75  77.5   81.25\n",
            "  85.    88.75  92.5   96.25 100.  ]\n"
          ]
        }
      ]
    },
    {
      "cell_type": "code",
      "source": [
        "#Q5\n",
        "ucs420_Priyanshi = np.array([[10, 20, 30, 40], [50, 60, 70, 80], [90, 15, 20, 35]])\n",
        "print(\"Mean:\", np.mean(ucs420_Priyanshi))\n",
        "print(\"Median:\", np.median(ucs420_Priyanshi))\n",
        "print(\"Max:\", np.max(ucs420_Priyanshi))\n",
        "print(\"Min:\", np.min(ucs420_Priyanshi))\n",
        "print(\"Unique elements:\", np.unique(ucs420_Priyanshi))\n",
        "reshaped_ucs420_Priyanshi = ucs420_Priyanshi.reshape(4, 3)\n",
        "print(\"Reshaped (4x3):\\n\", reshaped_ucs420_Priyanshi)\n",
        "resized_ucs420_Priyanshi = np.resize(ucs420_Priyanshi, (2, 3))\n",
        "print(\"Resized (2x3):\\n\", resized_ucs420_Priyanshi)"
      ],
      "metadata": {
        "colab": {
          "base_uri": "https://localhost:8080/"
        },
        "id": "a_7eUdDQnRus",
        "outputId": "9c6beec4-d95a-4331-c8c6-5542f42a2a3d"
      },
      "execution_count": 4,
      "outputs": [
        {
          "output_type": "stream",
          "name": "stdout",
          "text": [
            "Mean: 43.333333333333336\n",
            "Median: 37.5\n",
            "Max: 90\n",
            "Min: 10\n",
            "Unique elements: [10 15 20 30 35 40 50 60 70 80 90]\n",
            "Reshaped (4x3):\n",
            " [[10 20 30]\n",
            " [40 50 60]\n",
            " [70 80 90]\n",
            " [15 20 35]]\n",
            "Resized (2x3):\n",
            " [[10 20 30]\n",
            " [40 50 60]]\n"
          ]
        }
      ]
    }
  ]
}
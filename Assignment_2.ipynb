# Details
print("Name: Priyanshi")
print("Roll No: 102497022")
print("Subgroup: 2Q14\n")

{
  "nbformat": 4,
  "nbformat_minor": 0,
  "metadata": {
    "colab": {
      "provenance": []
    },
    "kernelspec": {
      "name": "python3",
      "display_name": "Python 3"
    },
    "language_info": {
      "name": "python"
    }
  },
  "cells": [
    {
      "cell_type": "code",
      "execution_count": 1,
      "metadata": {
        "colab": {
          "base_uri": "https://localhost:8080/"
        },
        "id": "csrfSzMzcJRq",
        "outputId": "c5e6122f-24d5-4c1e-9ad7-620a60e12c62"
      },
      "outputs": [
        {
          "output_type": "stream",
          "name": "stdout",
          "text": [
            "After adding 200 and 300: [10, 20, 30, 40, 50, 60, 70, 80, 200, 300]\n",
            "After removing 10 and 30: [20, 40, 50, 60, 70, 80, 200, 300]\n",
            "Ascending order: [20, 40, 50, 60, 70, 80, 200, 300]\n",
            "Descending order: [300, 200, 80, 70, 60, 50, 40, 20]\n"
          ]
        }
      ],
      "source": [
        "# Initial List\n",
        "L = [10, 20, 30, 40, 50, 60, 70, 80]\n",
        "\n",
        "# i. Add 200 and 300 to L\n",
        "L.extend([200, 300])\n",
        "print(\"After adding 200 and 300:\", L)\n",
        "\n",
        "# ii. Remove 10 and 30 from L\n",
        "L.remove(10)\n",
        "L.remove(30)\n",
        "print(\"After removing 10 and 30:\", L)\n",
        "\n",
        "# iii. Sort L in ascending order\n",
        "L.sort()\n",
        "print(\"Ascending order:\", L)\n",
        "\n",
        "# iv. Sort L in descending order\n",
        "L.sort(reverse=True)\n",
        "print(\"Descending order:\", L)\n"
      ]
    },
    {
      "cell_type": "code",
      "source": [
        "# Tuple of scores\n",
        "scores = (45, 89.5, 76, 45.4, 89, 92, 58, 45)\n",
        "\n",
        "# i. Highest score and its index\n",
        "highest_score = max(scores)\n",
        "highest_index = scores.index(highest_score)\n",
        "print(\"Highest score:\", highest_score, \"at index:\", highest_index)\n",
        "\n",
        "# ii. Lowest score and its count\n",
        "lowest_score = min(scores)\n",
        "lowest_count = scores.count(lowest_score)\n",
        "print(\"Lowest score:\", lowest_score, \"appears\", lowest_count, \"times\")\n",
        "\n",
        "# iii. Reverse the tuple and return as a list\n",
        "reversed_list = list(scores[::-1])\n",
        "print(\"Reversed tuple as list:\", reversed_list)\n",
        "\n",
        "# iv. Check if '76' is present in the tuple\n",
        "specific_score = 76\n",
        "if specific_score in scores:\n",
        "    print(f\"Score {specific_score} found at index {scores.index(specific_score)}\")\n",
        "else:\n",
        "    print(f\"Score {specific_score} is not present\")\n"
      ],
      "metadata": {
        "colab": {
          "base_uri": "https://localhost:8080/"
        },
        "id": "FiKBJKcic-9o",
        "outputId": "57599022-4bf6-454f-d3ae-2e9d3e83b537"
      },
      "execution_count": 2,
      "outputs": [
        {
          "output_type": "stream",
          "name": "stdout",
          "text": [
            "Highest score: 92 at index: 5\n",
            "Lowest score: 45 appears 2 times\n",
            "Reversed tuple as list: [45, 58, 92, 89, 45.4, 76, 89.5, 45]\n",
            "Score 76 found at index 2\n"
          ]
        }
      ]
    },
    {
      "cell_type": "code",
      "source": [
        "import random\n",
        "from sympy import isprime\n",
        "\n",
        "# Generate 100 random numbers between 100 and 900\n",
        "random_numbers = []\n",
        "for i in range(100):\n",
        "    random_numbers.append(random.randint(100, 900))\n",
        "\n",
        "print(\"Total numbers generated:\", len(random_numbers))\n",
        "print(\"Random Numbers:\", random_numbers)\n",
        "\n",
        "odd_count = 0\n",
        "even_count = 0\n",
        "prime_count = 0\n",
        "\n",
        "odd_numbers = []\n",
        "even_numbers = []\n",
        "prime_numbers = []\n",
        "\n",
        "for num in random_numbers:\n",
        "    if isprime(num):\n",
        "        prime_count += 1\n",
        "        prime_numbers.append(num)\n",
        "    if num % 2 == 0:\n",
        "        even_count += 1\n",
        "        even_numbers.append(num)\n",
        "    else:\n",
        "        odd_count += 1\n",
        "        odd_numbers.append(num)\n",
        "\n",
        "\n",
        "print(\"\\nNumber of even numbers:\", even_count)\n",
        "print(\"Even numbers:\", even_numbers)\n",
        "\n",
        "print(\"\\nNumber of odd numbers:\", odd_count)\n",
        "print(\"Odd numbers:\", odd_numbers)\n",
        "\n",
        "print(\"\\nNumber of prime numbers:\", prime_count)\n",
        "print(\"Prime numbers:\", prime_numbers)\n"
      ],
      "metadata": {
        "colab": {
          "base_uri": "https://localhost:8080/"
        },
        "id": "oNT2Zn7VdKfv",
        "outputId": "4e5ad6ff-9810-4e53-b6fe-024b0b7aff55"
      },
      "execution_count": 16,
      "outputs": [
        {
          "output_type": "stream",
          "name": "stdout",
          "text": [
            "Total numbers generated: 100\n",
            "Random Numbers: [280, 286, 438, 408, 731, 880, 585, 146, 288, 852, 583, 116, 748, 284, 853, 714, 501, 658, 647, 659, 740, 875, 305, 439, 156, 580, 794, 126, 406, 117, 318, 192, 164, 306, 150, 147, 833, 213, 900, 734, 128, 697, 651, 355, 580, 366, 743, 636, 659, 443, 880, 321, 541, 854, 342, 565, 866, 786, 525, 249, 218, 639, 500, 219, 355, 675, 844, 809, 840, 882, 111, 640, 685, 196, 252, 578, 111, 469, 475, 108, 889, 346, 265, 492, 451, 750, 546, 625, 801, 622, 141, 219, 182, 529, 702, 577, 730, 702, 165, 113]\n",
            "\n",
            "Number of even numbers: 54\n",
            "Even numbers: [280, 286, 438, 408, 880, 146, 288, 852, 116, 748, 284, 714, 658, 740, 156, 580, 794, 126, 406, 318, 192, 164, 306, 150, 900, 734, 128, 580, 366, 636, 880, 854, 342, 866, 786, 218, 500, 844, 840, 882, 640, 196, 252, 578, 108, 346, 492, 750, 546, 622, 182, 702, 730, 702]\n",
            "\n",
            "Number of odd numbers: 46\n",
            "Odd numbers: [731, 585, 583, 853, 501, 647, 659, 875, 305, 439, 117, 147, 833, 213, 697, 651, 355, 743, 659, 443, 321, 541, 565, 525, 249, 639, 219, 355, 675, 809, 111, 685, 111, 469, 475, 889, 265, 451, 625, 801, 141, 219, 529, 577, 165, 113]\n",
            "\n",
            "Number of prime numbers: 11\n",
            "Prime numbers: [853, 647, 659, 439, 743, 659, 443, 541, 809, 577, 113]\n"
          ]
        }
      ]
    },
    {
      "cell_type": "code",
      "source": [
        "# Sets A and B\n",
        "A = {34, 56, 78, 90}\n",
        "B = {78, 45, 90, 23}\n",
        "\n",
        "# i. Union of sets\n",
        "unique_scores = A.union(B)\n",
        "print(\"Unique scores:\", unique_scores)\n",
        "\n",
        "# ii. Intersection of sets\n",
        "common_scores = A.intersection(B)\n",
        "print(\"Common scores:\", common_scores)\n",
        "\n",
        "# iii. Symmetric difference\n",
        "exclusive_scores = A.symmetric_difference(B)\n",
        "print(\"Exclusive scores:\", exclusive_scores)\n",
        "\n",
        "# iv. Subset and superset check\n",
        "is_subset = A.issubset(B)\n",
        "is_superset = B.issuperset(A)\n",
        "print(f\"Team A is a subset of Team B: {is_subset}\")\n",
        "print(f\"Team B is a superset of Team A: {is_superset}\")\n",
        "\n",
        "# v. Remove specific score X from A\n",
        "X = int(input(\"Enter a score to remove from A: \"))\n",
        "if X in A:\n",
        "    A.remove(X)\n",
        "    print(\"Set A after removing\", X, \":\", A)\n",
        "else:\n",
        "    print(X, \"is not present in set A.\")\n"
      ],
      "metadata": {
        "colab": {
          "base_uri": "https://localhost:8080/"
        },
        "id": "oNtxFvO-ekL_",
        "outputId": "819fe745-9475-4f58-f5f7-a5adbb31f728"
      },
      "execution_count": 8,
      "outputs": [
        {
          "output_type": "stream",
          "name": "stdout",
          "text": [
            "Unique scores: {34, 45, 78, 23, 56, 90}\n",
            "Common scores: {90, 78}\n",
            "Exclusive scores: {34, 45, 23, 56}\n",
            "Team A is a subset of Team B: False\n",
            "Team B is a superset of Team A: False\n",
            "Enter a score to remove from A: 78\n",
            "Set A after removing 78 : {56, 34, 90}\n"
          ]
        }
      ]
    },
    {
      "cell_type": "code",
      "source": [
        "# Initial dictionary\n",
        "city_dict = {\"city\": \"New York\", \"population\": 8419000}\n",
        "\n",
        "# Rename key 'city' to 'location'\n",
        "city_dict[\"location\"] = city_dict.pop(\"city\")\n",
        "print(\"Updated dictionary:\", city_dict)\n"
      ],
      "metadata": {
        "colab": {
          "base_uri": "https://localhost:8080/"
        },
        "id": "qCo-o9lEekHg",
        "outputId": "77a819b2-862b-47c8-b25c-0e5c8ef08c15"
      },
      "execution_count": 9,
      "outputs": [
        {
          "output_type": "stream",
          "name": "stdout",
          "text": [
            "Updated dictionary: {'population': 8419000, 'location': 'New York'}\n"
          ]
        }
      ]
    }
  ]
}

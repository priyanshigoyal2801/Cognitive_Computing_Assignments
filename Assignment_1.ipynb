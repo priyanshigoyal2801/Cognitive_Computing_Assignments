{
  "nbformat": 4,
  "nbformat_minor": 0,
  "metadata": {
    "colab": {
      "provenance": []
    },
    "kernelspec": {
      "name": "python3",
      "display_name": "Python 3"
    },
    "language_info": {
      "name": "python"
    }
  },
  "cells": [
    {
      "cell_type": "markdown",
      "source": [
        "Name - **Priyanshi**\n",
        "Roll no - 102497022\n",
        "Subgroup - 2Q14"
      ],
      "metadata": {
        "id": "AyvSViZsrM2v"
      }
    },
    {
      "cell_type": "code",
      "execution_count": 1,
      "metadata": {
        "colab": {
          "base_uri": "https://localhost:8080/"
        },
        "id": "0ng47BuiorF_",
        "outputId": "b62810e5-c461-4a30-9c8b-57762dca92dc"
      },
      "outputs": [
        {
          "output_type": "stream",
          "name": "stdout",
          "text": [
            "Priyanshi\n",
            "Priyanshi\n",
            "Priyanshi\n",
            "\n"
          ]
        }
      ],
      "source": [
        "# Assignment 1.1: Write a program to print your name three times.\n",
        "print(\"Priyanshi\\n\" * 3)"
      ]
    },
    {
      "cell_type": "code",
      "source": [
        "# Assignment 2.1: Write a program to add three numbers and print the result.\n",
        "a, b, c = 5, 10, 15\n",
        "result = a + b + c\n",
        "print(\"The sum is:\", result)"
      ],
      "metadata": {
        "colab": {
          "base_uri": "https://localhost:8080/"
        },
        "id": "BXWydXOSqNpO",
        "outputId": "97819527-29ff-4181-cb3c-e7ddffe3a88b"
      },
      "execution_count": 3,
      "outputs": [
        {
          "output_type": "stream",
          "name": "stdout",
          "text": [
            "The sum is: 30\n"
          ]
        }
      ]
    },
    {
      "cell_type": "code",
      "source": [
        "# Assignment 2.2: Write a program to concatenate three strings and print the result.\n",
        "str1, str2, str3 = \"Hello\", \"World\", \"Python\"\n",
        "result = str1 + \" \" + str2 + \" \" + str3\n",
        "print(\"Concatenated String:\", result)"
      ],
      "metadata": {
        "colab": {
          "base_uri": "https://localhost:8080/"
        },
        "id": "icqvyBWCqZRH",
        "outputId": "d5959350-2629-4c42-81ea-43415af56b54"
      },
      "execution_count": 4,
      "outputs": [
        {
          "output_type": "stream",
          "name": "stdout",
          "text": [
            "Concatenated String: Hello World Python\n"
          ]
        }
      ]
    },
    {
      "cell_type": "code",
      "source": [
        "# Assignment 4.1: Write a program to print the multiplication tables of 7 and 9.\n",
        "for i in range(1, 11):\n",
        "    print(f\"7 x {i} = {7*i}\")\n",
        "print()  # Blank line\n",
        "for i in range(1, 11):\n",
        "    print(f\"9 x {i} = {9*i}\")"
      ],
      "metadata": {
        "colab": {
          "base_uri": "https://localhost:8080/"
        },
        "id": "-PszeF27qdEa",
        "outputId": "74b00617-7394-4d1c-fb38-e5e9f6da0093"
      },
      "execution_count": 5,
      "outputs": [
        {
          "output_type": "stream",
          "name": "stdout",
          "text": [
            "7 x 1 = 7\n",
            "7 x 2 = 14\n",
            "7 x 3 = 21\n",
            "7 x 4 = 28\n",
            "7 x 5 = 35\n",
            "7 x 6 = 42\n",
            "7 x 7 = 49\n",
            "7 x 8 = 56\n",
            "7 x 9 = 63\n",
            "7 x 10 = 70\n",
            "\n",
            "9 x 1 = 9\n",
            "9 x 2 = 18\n",
            "9 x 3 = 27\n",
            "9 x 4 = 36\n",
            "9 x 5 = 45\n",
            "9 x 6 = 54\n",
            "9 x 7 = 63\n",
            "9 x 8 = 72\n",
            "9 x 9 = 81\n",
            "9 x 10 = 90\n"
          ]
        }
      ]
    },
    {
      "cell_type": "code",
      "source": [
        "# Assignment 4.2: Write a program to print the table of a number given by the user.\n",
        "n = int(input(\"Enter a number for the table: \"))\n",
        "for i in range(1, 11):\n",
        "    print(f\"{n} x {i} = {n*i}\")"
      ],
      "metadata": {
        "colab": {
          "base_uri": "https://localhost:8080/"
        },
        "id": "m7Dk_6y_qii8",
        "outputId": "313ebbde-1d33-48cf-a8bd-1d0bfdd0f4c0"
      },
      "execution_count": 6,
      "outputs": [
        {
          "output_type": "stream",
          "name": "stdout",
          "text": [
            "Enter a number for the table: 6\n",
            "6 x 1 = 6\n",
            "6 x 2 = 12\n",
            "6 x 3 = 18\n",
            "6 x 4 = 24\n",
            "6 x 5 = 30\n",
            "6 x 6 = 36\n",
            "6 x 7 = 42\n",
            "6 x 8 = 48\n",
            "6 x 9 = 54\n",
            "6 x 10 = 60\n"
          ]
        }
      ]
    },
    {
      "cell_type": "code",
      "source": [
        "# Assignment 4.3: Write a program to add all numbers from 1 to n, where n is given by the user.\n",
        "n = int(input(\"Enter a number: \"))\n",
        "result = sum(range(1, n+1))\n",
        "print(\"Sum of numbers from 1 to\", n, \"is:\", result)"
      ],
      "metadata": {
        "colab": {
          "base_uri": "https://localhost:8080/"
        },
        "id": "D05I6mF2qmPt",
        "outputId": "c62315fd-086b-47e8-8ad3-9c6a827b83cf"
      },
      "execution_count": 7,
      "outputs": [
        {
          "output_type": "stream",
          "name": "stdout",
          "text": [
            "Enter a number: 6\n",
            "Sum of numbers from 1 to 6 is: 21\n"
          ]
        }
      ]
    },
    {
      "cell_type": "code",
      "source": [
        "# Assignment 5.1: Write a program to find the maximum among three numbers using the max() function.\n",
        "a, b, c = map(int, input(\"Enter three numbers separated by space: \").split())\n",
        "print(\"The maximum number is:\", max(a, b, c))"
      ],
      "metadata": {
        "colab": {
          "base_uri": "https://localhost:8080/"
        },
        "id": "PZg0mCDAqtyC",
        "outputId": "91371203-219d-441b-986b-427fa584e2b1"
      },
      "execution_count": 8,
      "outputs": [
        {
          "output_type": "stream",
          "name": "stdout",
          "text": [
            "Enter three numbers separated by space: 4 5 6\n",
            "The maximum number is: 6\n"
          ]
        }
      ]
    },
    {
      "cell_type": "code",
      "source": [
        "# Assignment 5.2: Write a program to add all numbers divisible by 7 and 9 from 1 to n, where n is given by the user.\n",
        "n = int(input(\"Enter a number: \"))\n",
        "result = sum(x for x in range(1, n+1) if x % 7 == 0 and x % 9 == 0)\n",
        "print(\"Sum of numbers divisible by 7 and 9:\", result)"
      ],
      "metadata": {
        "colab": {
          "base_uri": "https://localhost:8080/"
        },
        "id": "AB3uTGqfq2Qr",
        "outputId": "35f22c50-cf4d-47b2-9493-873e78309f11"
      },
      "execution_count": 9,
      "outputs": [
        {
          "output_type": "stream",
          "name": "stdout",
          "text": [
            "Enter a number: 56\n",
            "Sum of numbers divisible by 7 and 9: 0\n"
          ]
        }
      ]
    },
    {
      "cell_type": "code",
      "source": [
        "# Assignment 5.3: Write a program to add all prime numbers from 1 to n, where n is given by the user.\n",
        "def is_prime(num):\n",
        "    if num < 2:\n",
        "        return False\n",
        "    for i in range(2, int(num**0.5) + 1):\n",
        "        if num % i == 0:\n",
        "            return False\n",
        "    return True\n",
        "\n",
        "n = int(input(\"Enter a number: \"))\n",
        "result = sum(x for x in range(1, n+1) if is_prime(x))\n",
        "print(\"Sum of prime numbers:\", result)"
      ],
      "metadata": {
        "colab": {
          "base_uri": "https://localhost:8080/"
        },
        "id": "LyXvQwAiq9Bq",
        "outputId": "aa2eba88-bd19-422a-f42b-6a8b3b19f4e5"
      },
      "execution_count": 10,
      "outputs": [
        {
          "output_type": "stream",
          "name": "stdout",
          "text": [
            "Enter a number: 53\n",
            "Sum of prime numbers: 381\n"
          ]
        }
      ]
    },
    {
      "cell_type": "code",
      "source": [
        "# Assignment 6.1: Write a program using a function to add all odd numbers from 1 to n, where n is given by the user.\n",
        "def add_odd_numbers(n):\n",
        "    return sum(x for x in range(1, n+1) if x % 2 != 0)\n",
        "\n",
        "n = int(input(\"Enter a number: \"))\n",
        "print(\"Sum of odd numbers:\", add_odd_numbers(n))"
      ],
      "metadata": {
        "colab": {
          "base_uri": "https://localhost:8080/"
        },
        "id": "BiNp9Ns0rBEa",
        "outputId": "3ae4cb7e-5751-41e4-c3b9-d10e8fd395cd"
      },
      "execution_count": 11,
      "outputs": [
        {
          "output_type": "stream",
          "name": "stdout",
          "text": [
            "Enter a number: 7\n",
            "Sum of odd numbers: 16\n"
          ]
        }
      ]
    },
    {
      "cell_type": "code",
      "source": [
        "# Assignment 6.2: Write a program using a function to add all prime numbers from 1 to n, where n is given by the user.\n",
        "def add_prime_numbers(n):\n",
        "    def is_prime(num):\n",
        "        if num < 2:\n",
        "            return False\n",
        "        for i in range(2, int(num**0.5) + 1):\n",
        "            if num % i == 0:\n",
        "                return False\n",
        "        return True\n",
        "\n",
        "    return sum(x for x in range(1, n+1) if is_prime(x))\n",
        "\n",
        "n = int(input(\"Enter a number: \"))\n",
        "print(\"Sum of prime numbers:\", add_prime_numbers(n))"
      ],
      "metadata": {
        "colab": {
          "base_uri": "https://localhost:8080/"
        },
        "id": "BP0jSjjarIBK",
        "outputId": "65f350a9-c1fb-46bd-d881-a618e8282ffb"
      },
      "execution_count": 12,
      "outputs": [
        {
          "output_type": "stream",
          "name": "stdout",
          "text": [
            "Enter a number: 676\n",
            "Sum of prime numbers: 37561\n"
          ]
        }
      ]
    }
  ]
}